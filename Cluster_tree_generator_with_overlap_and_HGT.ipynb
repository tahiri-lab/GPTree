{
  "nbformat": 4,
  "nbformat_minor": 0,
  "metadata": {
    "colab": {
      "provenance": [],
      "collapsed_sections": []
    },
    "kernelspec": {
      "name": "python3",
      "display_name": "Python 3"
    },
    "language_info": {
      "name": "python"
    }
  },
  "cells": [
    {
      "cell_type": "markdown",
      "source": [
        "##Generator of clusters of phylogenetic trees with overlapping and HGT\n",
        "\n",
        "This generator can be used to generate a specified number of clusters of phylogenetic trees in Newick format with a *variable number of leaves*  and with some level of *overlap* between trees in clusters. With this tool, the user can generate a dataset with clusters of gene trees (particularly, gene trees with **horizontal gene transfer** implemented), which is saved in txt, with the possibility of its further use in their scientific experiments (e.g., testing classification algorithms or inference supertrees).\n"
      ],
      "metadata": {
        "id": "Um4r8uJgVpQO"
      }
    },
    {
      "cell_type": "markdown",
      "source": [
        "Contributors: AK and NT"
      ],
      "metadata": {
        "id": "PZ970TAgz6Ud"
      }
    },
    {
      "cell_type": "markdown",
      "source": [
        "The generator is based on the use of the [AsymmeTree library](https://github.com/david-schaller/AsymmeTree).\n",
        "The user has to specify several initial parameters:\n",
        "\n",
        "*   The number of clusters.\n",
        "*   The minimum possible number of leaves for trees in a cluster.\n",
        "*   The maximum possible number of leaves for trees in a cluster.\n",
        "*   The average level of overlap (common leaves) between the trees in each cluster. We will define the level of overlap between trees $T_1$ and $T_2$ as the average between 2 values: (1) the number of common leaves in trees $T_1$ and $T_2$, divided by the number of leaves in tree $T_1$, (2)  the number of common leaves in trees $T_1$ and $T_2$, divided by the number of leaves in tree $T_2$.\n",
        "\n"
      ],
      "metadata": {
        "id": "hesHV4bn-fyn"
      }
    },
    {
      "cell_type": "markdown",
      "source": [
        "To generate species and gene trees with horizintal gene transfer we use this library: https://github.com/david-schaller/AsymmeTree"
      ],
      "metadata": {
        "id": "63sfNQ-pqJeZ"
      }
    },
    {
      "cell_type": "markdown",
      "source": [
        "**Generator**"
      ],
      "metadata": {
        "id": "48tRg9v7lZGz"
      }
    },
    {
      "cell_type": "markdown",
      "source": [
        "We need to install the required libraries\n"
      ],
      "metadata": {
        "id": "kBSnQIQgtQoS"
      }
    },
    {
      "cell_type": "code",
      "source": [
        "pip install ete3 PyQt5 asymmetree"
      ],
      "metadata": {
        "colab": {
          "base_uri": "https://localhost:8080/"
        },
        "id": "PjJguvhxtKjs",
        "outputId": "b5751aca-eefe-456e-aa79-30b74dcc161f"
      },
      "execution_count": 1,
      "outputs": [
        {
          "output_type": "stream",
          "name": "stdout",
          "text": [
            "Looking in indexes: https://pypi.org/simple, https://us-python.pkg.dev/colab-wheels/public/simple/\n",
            "Collecting ete3\n",
            "  Downloading ete3-3.1.2.tar.gz (4.7 MB)\n",
            "\u001b[K     |████████████████████████████████| 4.7 MB 18.8 MB/s \n",
            "\u001b[?25hCollecting PyQt5\n",
            "  Downloading PyQt5-5.15.7-cp37-abi3-manylinux1_x86_64.whl (8.4 MB)\n",
            "\u001b[K     |████████████████████████████████| 8.4 MB 18.4 MB/s \n",
            "\u001b[?25hCollecting asymmetree\n",
            "  Downloading asymmetree-2.2.0-py3-none-any.whl (91 kB)\n",
            "\u001b[K     |████████████████████████████████| 91 kB 8.0 MB/s \n",
            "\u001b[?25hCollecting PyQt5-Qt5>=5.15.0\n",
            "  Downloading PyQt5_Qt5-5.15.2-py3-none-manylinux2014_x86_64.whl (59.9 MB)\n",
            "\u001b[K     |████████████████████████████████| 59.9 MB 1.6 MB/s \n",
            "\u001b[?25hCollecting PyQt5-sip<13,>=12.11\n",
            "  Downloading PyQt5_sip-12.11.0-cp37-cp37m-manylinux1_x86_64.whl (344 kB)\n",
            "\u001b[K     |████████████████████████████████| 344 kB 83.2 MB/s \n",
            "\u001b[?25hRequirement already satisfied: scipy in /usr/local/lib/python3.7/dist-packages (from asymmetree) (1.7.3)\n",
            "Requirement already satisfied: numpy in /usr/local/lib/python3.7/dist-packages (from asymmetree) (1.21.6)\n",
            "Requirement already satisfied: matplotlib in /usr/local/lib/python3.7/dist-packages (from asymmetree) (3.2.2)\n",
            "Requirement already satisfied: networkx in /usr/local/lib/python3.7/dist-packages (from asymmetree) (2.6.3)\n",
            "Collecting tralda\n",
            "  Downloading tralda-1.0.1-py3-none-any.whl (72 kB)\n",
            "\u001b[K     |████████████████████████████████| 72 kB 297 kB/s \n",
            "\u001b[?25hRequirement already satisfied: cycler>=0.10 in /usr/local/lib/python3.7/dist-packages (from matplotlib->asymmetree) (0.11.0)\n",
            "Requirement already satisfied: pyparsing!=2.0.4,!=2.1.2,!=2.1.6,>=2.0.1 in /usr/local/lib/python3.7/dist-packages (from matplotlib->asymmetree) (3.0.9)\n",
            "Requirement already satisfied: kiwisolver>=1.0.1 in /usr/local/lib/python3.7/dist-packages (from matplotlib->asymmetree) (1.4.4)\n",
            "Requirement already satisfied: python-dateutil>=2.1 in /usr/local/lib/python3.7/dist-packages (from matplotlib->asymmetree) (2.8.2)\n",
            "Requirement already satisfied: typing-extensions in /usr/local/lib/python3.7/dist-packages (from kiwisolver>=1.0.1->matplotlib->asymmetree) (4.1.1)\n",
            "Requirement already satisfied: six>=1.5 in /usr/local/lib/python3.7/dist-packages (from python-dateutil>=2.1->matplotlib->asymmetree) (1.15.0)\n",
            "Building wheels for collected packages: ete3\n",
            "  Building wheel for ete3 (setup.py) ... \u001b[?25l\u001b[?25hdone\n",
            "  Created wheel for ete3: filename=ete3-3.1.2-py3-none-any.whl size=2273013 sha256=118d02274d80231b4b5fb012841b20f0d53a7935e664e35ce516171c6d30a8ed\n",
            "  Stored in directory: /root/.cache/pip/wheels/17/fd/e2/6ac384d8c2484789304657dde01b96d7ab83f4f1dd96d266df\n",
            "Successfully built ete3\n",
            "Installing collected packages: tralda, PyQt5-sip, PyQt5-Qt5, PyQt5, ete3, asymmetree\n",
            "Successfully installed PyQt5-5.15.7 PyQt5-Qt5-5.15.2 PyQt5-sip-12.11.0 asymmetree-2.2.0 ete3-3.1.2 tralda-1.0.1\n"
          ]
        }
      ]
    },
    {
      "cell_type": "code",
      "source": [
        "#Importing the required libraries\n",
        "import PyQt5\n",
        "from ete3 import Tree, PhyloTree, TreeStyle\n",
        "import random\n",
        "import asymmetree.treeevolve as te\n",
        "from asymmetree.tools.PhyloTreeTools import to_newick\n",
        "import pandas as pd"
      ],
      "metadata": {
        "id": "6A0rcJF5rdQ8"
      },
      "execution_count": 2,
      "outputs": []
    },
    {
      "cell_type": "markdown",
      "source": [
        "**Setting the required initial values by the user**\n",
        "\n",
        "*   **k** = the number of clusters, integer (1<=k<100).\n",
        "\n",
        "*   **Lmin** = the minimum possible number of leaves for trees in a cluster, integer (5<=Lmin<500)\n",
        "*   **Lmax** = the maximum possible number of leaves for trees in a cluster, integer (Lmin<Lmax<=500)\n",
        "*   **Ngen** = the number of trees to be generated for each cluster, integer (Ngen<=500)\n",
        "*   **Plevel** = the average level of overlap (common leaves) between trees in a cluster, in decimal notation, from 0.2 to 0.7 with steps of 0.5 (which corresponds to the range from 20% to 70%)\n",
        "\n",
        "Currently, the generator works very slow for the levels of overlap <0.2 and >0.7."
      ],
      "metadata": {
        "id": "e4kGjzzHCyTJ"
      }
    },
    {
      "cell_type": "code",
      "source": [
        "k =   3#@param {type:\"integer\", min:1, max:100}\n",
        "Lmin =   10#@param {type:\"integer\", min:5, max:499}\n",
        "Lmax =   15#@param {type:\"integer\", min:6, max:500}\n",
        "Ngen =  6#@param {type:\"integer\", min:3, max:500}\n",
        "plevel = 0.5 #@param {type:\"slider\", min:0.2, max:0.75, step:0.5}\n",
        "\n"
      ],
      "metadata": {
        "id": "Hig-64vK7JEv"
      },
      "execution_count": 3,
      "outputs": []
    },
    {
      "cell_type": "code",
      "source": [
        "#Checking values\n",
        "if k < 1 or k > 100 or Lmin < 5 or Lmin >499 or Lmin > Lmax or Lmin==Lmax or Lmax >500 or Ngen < 3 or Ngen >500:\n",
        "  print('Check if the range of the entered data is correct. Select another value, please')\n",
        "  raise ValueError\n"
      ],
      "metadata": {
        "id": "TRv6TbuOJhq7"
      },
      "execution_count": 4,
      "outputs": []
    },
    {
      "cell_type": "code",
      "source": [
        "# a function to generate a species tree with random number of leaves\n",
        "\n",
        "def gptree_speciestree():\n",
        "  N1 = random.randrange(Lmin, Lmax) #we randomly chose the number of leaves for the generated tree in the specified range\n",
        "  S1 = te.species_tree_n(N1)\n",
        "  return S1"
      ],
      "metadata": {
        "id": "7QscbjD5WYz9"
      },
      "execution_count": 5,
      "outputs": []
    },
    {
      "cell_type": "code",
      "source": [
        "# a function to generate one gene tree based on a species tree\n",
        "\n",
        "def gptree_genetree(S1):\n",
        "  tree_simulator = te.GeneTreeSimulator(S1)\n",
        "  T1 = tree_simulator.simulate(hgt_rate=0.2, loss_rate=0.2,  replace_prob=0.7) # we set the horizontal gene transfer rate to 0.2\n",
        "  ogt = te.prune_losses(T1)\n",
        "  ogt = to_newick(ogt, reconc=False)\n",
        "  Gn_Tree = Tree(ogt, format=1)\n",
        "  return Gn_Tree\n"
      ],
      "metadata": {
        "id": "n8FX3OlFUOev"
      },
      "execution_count": 6,
      "outputs": []
    },
    {
      "cell_type": "code",
      "source": [
        "# a function to generate a set of gene trees based on a species tree\n",
        "\n",
        "def gptree_cluster_gene(sptree):\n",
        "  \n",
        "  cluster_dataset = [] #declare an empty list for gene trees\n",
        "  gene_tree1 = gptree_genetree(sptree)\n",
        "  cluster_dataset.append(gene_tree1) #add the first gene tree\n",
        "  common_leaves_temp = []\n",
        "  overlap_set1 = []\n",
        "  while len(cluster_dataset) < Ngen:\n",
        "    temp_set = cluster_dataset #temp_set is to store trees temporarily\n",
        "    overlap_tempset = overlap_set1\n",
        "    gene_tree_next = gptree_genetree(sptree)\n",
        "    # in the next step we will check the level of overlap and add trees to the intermediate set\n",
        "    overlap_tempset =[]\n",
        "    common_leaves_temp = []\n",
        "    for i in range (0, len(temp_set)):\n",
        "      rf, max_rf, common_leaves, parts_t1, parts_t2, discard_t1, discart_t2 = gene_tree_next.robinson_foulds(temp_set[i], unrooted_trees=True)\n",
        "      # we used the robinson_foulds function to get common leaves for each pairs of trees\n",
        "      #overlap_level_temp = len(common_leaves)/(len(gene_tree_next)+len(temp_set[i]) - len(common_leaves))\n",
        "      overlap_level_temp = ((len(common_leaves)/len(gene_tree_next))+(len(common_leaves)/len(temp_set[i])))/2\n",
        "      overlap_tempset.append(overlap_level_temp)\n",
        "    average_overlap = pd.Series(overlap_tempset) #calculation of the average level of overlap in the current version of our dataset\n",
        "    if (average_overlap.mean() <= plevel+0.01) and (average_overlap.mean() >= plevel-0.01):\n",
        "      overlap_set1.append(overlap_level_temp)\n",
        "      cluster_dataset.append(gene_tree_next) #we add the generated gene tree to our dataset if this tree satisfies our conditions\n",
        "      #print(\"Now we have \", len(cluster_dataset), \" trees\") #we display the current number of trees in our dataset to see the progress\n",
        "  #print(\"All done. Good job!\")\n",
        "  return cluster_dataset"
      ],
      "metadata": {
        "id": "enwRnGADQE1Q"
      },
      "execution_count": 11,
      "outputs": []
    },
    {
      "cell_type": "code",
      "source": [
        "# Generate k clusters of trees and save them to the txt file\n",
        "\n",
        "tree_cluster_dataset = \"trees_%s_%s_%s\" % (k, Ngen, int(plevel*100))\n",
        "with open(r\"%s.txt\" % tree_cluster_dataset, \"w\") as file:\n",
        "  for i in range(1, k+1):\n",
        "    species_tree_k = gptree_speciestree()\n",
        "    cluster_k = gptree_cluster_gene(species_tree_k)\n",
        "  # now we write the generated gene trees to a txt file (trees in Newick format).\n",
        "    file.write(\"Cluster # %s\" % (i)  + '\\n') #if you don't need to separate clusters by the word \"Cluster #\", you can comment this line\n",
        "\n",
        "  #write trees into the file line by line\n",
        "    for tree in cluster_k:\n",
        "      file.write(tree.write() + '\\n')\n",
        "file.close() #close the file for writing"
      ],
      "metadata": {
        "id": "jD6VQArS_74j"
      },
      "execution_count": 12,
      "outputs": []
    },
    {
      "cell_type": "markdown",
      "source": [
        "The generated dataset of the specified number of trees (separated by clusters) in Newick format is saved in the folder (e.g. trees_3_6_50.txt file, where the numbers indicate the number of clusters, number of trees in each cluster, and level of overlapping), from which the code was launched, or in the \"Files\" section, if launched in colab\n"
      ],
      "metadata": {
        "id": "GGnqmJ5Kbjuh"
      }
    },
    {
      "cell_type": "code",
      "source": [
        "# versions of the packages used\n",
        "from pip._internal.operations.freeze import freeze\n",
        "\n",
        "print([package for package in freeze()])\n"
      ],
      "metadata": {
        "id": "wpTUtDtA1L51",
        "outputId": "004fc347-419e-4cb9-954d-670d2d2fb9d6",
        "colab": {
          "base_uri": "https://localhost:8080/"
        }
      },
      "execution_count": null,
      "outputs": [
        {
          "output_type": "stream",
          "name": "stdout",
          "text": [
            "['absl-py==1.2.0', 'aeppl==0.0.33', 'aesara==2.7.9', 'aiohttp==3.8.1', 'aiosignal==1.2.0', 'alabaster==0.7.12', 'albumentations==1.2.1', 'altair==4.2.0', 'appdirs==1.4.4', 'arviz==0.12.1', 'astor==0.8.1', 'astropy==4.3.1', 'astunparse==1.6.3', 'asymmetree==2.2.0', 'async-timeout==4.0.2', 'asynctest==0.13.0', 'atari-py==0.2.9', 'atomicwrites==1.4.1', 'attrs==22.1.0', 'audioread==3.0.0', 'autograd==1.4', 'Babel==2.10.3', 'backcall==0.2.0', 'beautifulsoup4==4.6.3', 'bleach==5.0.1', 'blis==0.7.8', 'bokeh==2.3.3', 'branca==0.5.0', 'bs4==0.0.1', 'CacheControl==0.12.11', 'cached-property==1.5.2', 'cachetools==4.2.4', 'catalogue==2.0.8', 'certifi==2022.6.15', 'cffi==1.15.1', 'cftime==1.6.1', 'chardet==3.0.4', 'charset-normalizer==2.1.1', 'click==7.1.2', 'clikit==0.6.2', 'cloudpickle==1.5.0', 'cmake==3.22.6', 'cmdstanpy==1.0.7', 'colorcet==3.0.0', 'colorlover==0.3.0', 'community==1.0.0b1', 'cons==0.4.5', 'contextlib2==0.5.5', 'convertdate==2.4.0', 'crashtest==0.3.1', 'crcmod==1.7', 'cufflinks==0.17.3', 'cvxopt==1.3.0', 'cvxpy==1.2.1', 'cycler==0.11.0', 'cymem==2.0.6', 'Cython==0.29.32', 'daft==0.0.4', 'dask==2022.2.0', 'datascience==0.17.5', 'debugpy==1.0.0', 'decorator==4.4.2', 'defusedxml==0.7.1', 'descartes==1.1.0', 'dill==0.3.5.1', 'distributed==2022.2.0', 'dlib==19.24.0', 'dm-tree==0.1.7', 'docutils==0.17.1', 'dopamine-rl==1.0.5', 'earthengine-api==0.1.321', 'easydict==1.9', 'ecos==2.0.10', 'editdistance==0.5.3', 'en-core-web-sm @ https://github.com/explosion/spacy-models/releases/download/en_core_web_sm-3.4.0/en_core_web_sm-3.4.0-py3-none-any.whl', 'entrypoints==0.4', 'ephem==4.1.3', 'et-xmlfile==1.1.0', 'ete3==3.1.2', 'etils==0.7.1', 'etuples==0.3.5', 'fa2==0.3.5', 'fastai==2.7.9', 'fastcore==1.5.22', 'fastdownload==0.0.7', 'fastdtw==0.3.4', 'fastjsonschema==2.16.1', 'fastprogress==1.0.3', 'fastrlock==0.8', 'feather-format==0.4.1', 'filelock==3.8.0', 'firebase-admin==4.4.0', 'fix-yahoo-finance==0.0.22', 'Flask==1.1.4', 'flatbuffers==2.0.7', 'folium==0.12.1.post1', 'frozenlist==1.3.1', 'fsspec==2022.7.1', 'future==0.16.0', 'gast==0.5.3', 'GDAL==2.2.2', 'gdown==4.4.0', 'gensim==3.6.0', 'geographiclib==1.52', 'geopy==1.17.0', 'gin-config==0.5.0', 'glob2==0.7', 'google==2.0.3', 'google-api-core==1.31.6', 'google-api-python-client==1.12.11', 'google-auth==1.35.0', 'google-auth-httplib2==0.0.4', 'google-auth-oauthlib==0.4.6', 'google-cloud-bigquery==1.21.0', 'google-cloud-bigquery-storage==1.1.2', 'google-cloud-core==1.0.3', 'google-cloud-datastore==1.8.0', 'google-cloud-firestore==1.7.0', 'google-cloud-language==1.2.0', 'google-cloud-storage==1.18.1', 'google-cloud-translate==1.5.0', 'google-colab @ file:///colabtools/dist/google-colab-1.0.0.tar.gz', 'google-pasta==0.2.0', 'google-resumable-media==0.4.1', 'googleapis-common-protos==1.56.4', 'googledrivedownloader==0.4', 'graphviz==0.10.1', 'greenlet==1.1.3', 'grpcio==1.47.0', 'gspread==3.4.2', 'gspread-dataframe==3.0.8', 'gym==0.25.2', 'gym-notices==0.0.8', 'h5py==3.1.0', 'HeapDict==1.0.1', 'hijri-converter==2.2.4', 'holidays==0.15', 'holoviews==1.14.9', 'html5lib==1.0.1', 'httpimport==0.5.18', 'httplib2==0.17.4', 'httplib2shim==0.0.3', 'httpstan==4.6.1', 'humanize==0.5.1', 'hyperopt==0.1.2', 'idna==2.10', 'imageio==2.9.0', 'imagesize==1.4.1', 'imbalanced-learn==0.8.1', 'imblearn==0.0', 'imgaug==0.4.0', 'importlib-metadata==4.12.0', 'importlib-resources==5.9.0', 'imutils==0.5.4', 'inflect==2.1.0', 'intel-openmp==2022.1.0', 'intervaltree==2.1.0', 'ipykernel==5.3.4', 'ipython==7.9.0', 'ipython-genutils==0.2.0', 'ipython-sql==0.3.9', 'ipywidgets==7.7.1', 'itsdangerous==1.1.0', 'jax==0.3.14', 'jaxlib @ https://storage.googleapis.com/jax-releases/cuda11/jaxlib-0.3.14+cuda11.cudnn805-cp37-none-manylinux2014_x86_64.whl', 'jieba==0.42.1', 'Jinja2==2.11.3', 'joblib==1.1.0', 'jpeg4py==0.1.4', 'jsonschema==4.3.3', 'jupyter-client==6.1.12', 'jupyter-console==6.1.0', 'jupyter-core==4.11.1', 'jupyterlab-widgets==3.0.2', 'kaggle==1.5.12', 'kapre==0.3.7', 'keras==2.8.0', 'Keras-Preprocessing==1.1.2', 'keras-vis==0.4.1', 'kiwisolver==1.4.4', 'korean-lunar-calendar==0.2.1', 'langcodes==3.3.0', 'libclang==14.0.6', 'librosa==0.8.1', 'lightgbm==2.2.3', 'llvmlite==0.39.0', 'lmdb==0.99', 'locket==1.0.0', 'logical-unification==0.4.5', 'LunarCalendar==0.0.9', 'lxml==4.9.1', 'Markdown==3.4.1', 'MarkupSafe==2.0.1', 'marshmallow==3.17.1', 'matplotlib==3.2.2', 'matplotlib-venn==0.11.7', 'miniKanren==1.0.3', 'missingno==0.5.1', 'mistune==0.8.4', 'mizani==0.7.3', 'mkl==2019.0', 'mlxtend==0.14.0', 'more-itertools==8.14.0', 'moviepy==0.2.3.5', 'mpmath==1.2.1', 'msgpack==1.0.4', 'multidict==6.0.2', 'multipledispatch==0.6.0', 'multitasking==0.0.11', 'murmurhash==1.0.8', 'music21==5.5.0', 'natsort==5.5.0', 'nbconvert==5.6.1', 'nbformat==5.4.0', 'netCDF4==1.6.0', 'networkx==2.6.3', 'nibabel==3.0.2', 'nltk==3.7', 'notebook==5.3.1', 'numba==0.56.0', 'numexpr==2.8.3', 'numpy==1.21.6', 'oauth2client==4.1.3', 'oauthlib==3.2.0', 'okgrade==0.4.3', 'opencv-contrib-python==4.6.0.66', 'opencv-python==4.6.0.66', 'opencv-python-headless==4.6.0.66', 'openpyxl==3.0.10', 'opt-einsum==3.3.0', 'osqp==0.6.2.post0', 'packaging==21.3', 'palettable==3.3.0', 'pandas==1.3.5', 'pandas-datareader==0.9.0', 'pandas-gbq==0.13.3', 'pandas-profiling==1.4.1', 'pandocfilters==1.5.0', 'panel==0.12.1', 'param==1.12.2', 'parso==0.8.3', 'partd==1.3.0', 'pastel==0.2.1', 'pathlib==1.0.1', 'pathy==0.6.2', 'patsy==0.5.2', 'pep517==0.13.0', 'pexpect==4.8.0', 'pickleshare==0.7.5', 'Pillow==7.1.2', 'pip==21.1.3', 'pip-tools==6.2.0', 'plotly==5.5.0', 'plotnine==0.8.0', 'pluggy==0.7.1', 'pooch==1.6.0', 'portpicker==1.3.9', 'prefetch-generator==1.0.1', 'preshed==3.0.7', 'prettytable==3.4.0', 'progressbar2==3.38.0', 'promise==2.3', 'prompt-toolkit==2.0.10', 'prophet==1.1', 'protobuf==3.17.3', 'psutil==5.4.8', 'psycopg2==2.9.3', 'ptyprocess==0.7.0', 'py==1.11.0', 'pyarrow==6.0.1', 'pyasn1==0.4.8', 'pyasn1-modules==0.2.8', 'pycocotools==2.0.4', 'pycparser==2.21', 'pyct==0.4.8', 'pydantic==1.9.2', 'pydata-google-auth==1.4.0', 'pydot==1.3.0', 'pydot-ng==2.0.0', 'pydotplus==2.0.2', 'PyDrive==1.3.1', 'pyemd==0.5.1', 'pyerfa==2.0.0.1', 'Pygments==2.6.1', 'pygobject==3.26.1', 'pylev==1.4.0', 'pymc==4.1.4', 'PyMeeus==0.5.11', 'pymongo==4.2.0', 'pymystem3==0.2.0', 'PyOpenGL==3.1.6', 'pyparsing==3.0.9', 'PyQt5==5.15.7', 'PyQt5-Qt5==5.15.2', 'PyQt5-sip==12.11.0', 'pyrsistent==0.18.1', 'pysimdjson==3.2.0', 'pysndfile==1.3.8', 'PySocks==1.7.1', 'pystan==3.3.0', 'pytest==3.6.4', 'python-apt==0.0.0', 'python-chess==0.23.11', 'python-dateutil==2.8.2', 'python-louvain==0.16', 'python-slugify==6.1.2', 'python-utils==3.3.3', 'pytz==2022.2.1', 'pyviz-comms==2.2.1', 'PyWavelets==1.3.0', 'PyYAML==6.0', 'pyzmq==23.2.1', 'qdldl==0.1.5.post2', 'qudida==0.0.4', 'regex==2022.6.2', 'requests==2.23.0', 'requests-oauthlib==1.3.1', 'resampy==0.4.0', 'rpy2==3.4.5', 'rsa==4.9', 'scikit-image==0.18.3', 'scikit-learn==1.0.2', 'scipy==1.7.3', 'screen-resolution-extra==0.0.0', 'scs==3.2.0', 'seaborn==0.11.2', 'Send2Trash==1.8.0', 'setuptools==57.4.0', 'setuptools-git==1.2', 'Shapely==1.8.4', 'six==1.15.0', 'sklearn-pandas==1.8.0', 'smart-open==5.2.1', 'snowballstemmer==2.2.0', 'sortedcontainers==2.4.0', 'SoundFile==0.10.3.post1', 'spacy==3.4.1', 'spacy-legacy==3.0.10', 'spacy-loggers==1.0.3', 'Sphinx==1.8.6', 'sphinxcontrib-serializinghtml==1.1.5', 'sphinxcontrib-websupport==1.2.4', 'SQLAlchemy==1.4.40', 'sqlparse==0.4.2', 'srsly==2.4.4', 'statsmodels==0.12.2', 'sympy==1.7.1', 'tables==3.7.0', 'tabulate==0.8.10', 'tblib==1.7.0', 'tenacity==8.0.1', 'tensorboard==2.8.0', 'tensorboard-data-server==0.6.1', 'tensorboard-plugin-wit==1.8.1', 'tensorflow==2.8.2+zzzcolab20220719082949', 'tensorflow-datasets==4.6.0', 'tensorflow-estimator==2.8.0', 'tensorflow-gcs-config==2.8.0', 'tensorflow-hub==0.12.0', 'tensorflow-io-gcs-filesystem==0.26.0', 'tensorflow-metadata==1.10.0', 'tensorflow-probability==0.16.0', 'termcolor==1.1.0', 'terminado==0.13.3', 'testpath==0.6.0', 'text-unidecode==1.3', 'textblob==0.15.3', 'thinc==8.1.0', 'threadpoolctl==3.1.0', 'tifffile==2021.11.2', 'toml==0.10.2', 'tomli==2.0.1', 'toolz==0.12.0', 'torch @ https://download.pytorch.org/whl/cu113/torch-1.12.1%2Bcu113-cp37-cp37m-linux_x86_64.whl', 'torchaudio @ https://download.pytorch.org/whl/cu113/torchaudio-0.12.1%2Bcu113-cp37-cp37m-linux_x86_64.whl', 'torchsummary==1.5.1', 'torchtext==0.13.1', 'torchvision @ https://download.pytorch.org/whl/cu113/torchvision-0.13.1%2Bcu113-cp37-cp37m-linux_x86_64.whl', 'tornado==5.1.1', 'tqdm==4.64.0', 'traitlets==5.1.1', 'tralda==1.0.1', 'tweepy==3.10.0', 'typeguard==2.7.1', 'typer==0.4.2', 'typing-extensions==4.1.1', 'tzlocal==1.5.1', 'ujson==5.4.0', 'uritemplate==3.0.1', 'urllib3==1.24.3', 'vega-datasets==0.9.0', 'wasabi==0.10.1', 'wcwidth==0.2.5', 'webargs==8.2.0', 'webencodings==0.5.1', 'Werkzeug==1.0.1', 'wheel==0.37.1', 'widgetsnbextension==3.6.1', 'wordcloud==1.8.2.2', 'wrapt==1.14.1', 'xarray==0.20.2', 'xarray-einstats==0.2.2', 'xgboost==0.90', 'xkit==0.0.0', 'xlrd==1.1.0', 'xlwt==1.3.0', 'yarl==1.8.1', 'yellowbrick==1.5', 'zict==2.2.0', 'zipp==3.8.1']\n"
          ]
        }
      ]
    }
  ]
}