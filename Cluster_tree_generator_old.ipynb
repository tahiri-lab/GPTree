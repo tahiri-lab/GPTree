{
  "nbformat": 4,
  "nbformat_minor": 0,
  "metadata": {
    "colab": {
      "provenance": [],
      "collapsed_sections": []
    },
    "kernelspec": {
      "name": "python3",
      "display_name": "Python 3"
    },
    "language_info": {
      "name": "python"
    }
  },
  "cells": [
    {
      "cell_type": "markdown",
      "source": [
        "##Generator of clusters of phylogenetic trees with overlapping and HGT\n",
        "\n",
        "This generator can be used to generate a specified number of clusters of phylogenetic trees in Newick format with a *variable number of leaves*  and with some level of *overlap* between trees in clusters. With this tool, the user can generate a dataset with clusters of gene trees (particularly, gene trees with **horizontal gene transfer** implemented), which is saved in txt, with the possibility of its further use in their scientific experiments (e.g., testing classification algorithms or inference supertrees).\n"
      ],
      "metadata": {
        "id": "Um4r8uJgVpQO"
      }
    },
    {
      "cell_type": "markdown",
      "source": [
        "Contributors: AK and NT"
      ],
      "metadata": {
        "id": "PZ970TAgz6Ud"
      }
    },
    {
      "cell_type": "markdown",
      "source": [
        "The generator is based on the use of the [AsymmeTree library](https://github.com/david-schaller/AsymmeTree).\n",
        "The user has to specify several initial parameters:\n",
        "\n",
        "*   The number of clusters.\n",
        "*   The minimum possible number of leaves for trees in a cluster.\n",
        "*   The maximum possible number of leaves for trees in a cluster.\n",
        "*   The average level of overlap (common leaves) between the trees in each cluster. We will define the level of overlap between trees $T_1$ and $T_2$ as the average between 2 values: (1) the number of common leaves in trees $T_1$ and $T_2$, divided by the number of leaves in tree $T_1$, (2)  the number of common leaves in trees $T_1$ and $T_2$, divided by the number of leaves in tree $T_2$.\n",
        "\n"
      ],
      "metadata": {
        "id": "hesHV4bn-fyn"
      }
    },
    {
      "cell_type": "markdown",
      "source": [
        "To generate species and gene trees with horizintal gene transfer we use this library: https://github.com/david-schaller/AsymmeTree"
      ],
      "metadata": {
        "id": "63sfNQ-pqJeZ"
      }
    },
    {
      "cell_type": "markdown",
      "source": [
        "**Generator**"
      ],
      "metadata": {
        "id": "48tRg9v7lZGz"
      }
    },
    {
      "cell_type": "markdown",
      "source": [
        "We need to install the required libraries\n"
      ],
      "metadata": {
        "id": "kBSnQIQgtQoS"
      }
    },
    {
      "cell_type": "code",
      "source": [
        "pip install ete3 PyQt5 asymmetree"
      ],
      "metadata": {
        "colab": {
          "base_uri": "https://localhost:8080/"
        },
        "id": "PjJguvhxtKjs",
        "outputId": "077c4d48-5acd-4098-e781-9a4f4cdd4295"
      },
      "execution_count": null,
      "outputs": [
        {
          "output_type": "stream",
          "name": "stdout",
          "text": [
            "Looking in indexes: https://pypi.org/simple, https://us-python.pkg.dev/colab-wheels/public/simple/\n",
            "Requirement already satisfied: ete3 in /usr/local/lib/python3.7/dist-packages (3.1.2)\n",
            "Requirement already satisfied: PyQt5 in /usr/local/lib/python3.7/dist-packages (5.15.7)\n",
            "Requirement already satisfied: asymmetree in /usr/local/lib/python3.7/dist-packages (2.2.0)\n",
            "Requirement already satisfied: PyQt5-sip<13,>=12.11 in /usr/local/lib/python3.7/dist-packages (from PyQt5) (12.11.0)\n",
            "Requirement already satisfied: PyQt5-Qt5>=5.15.0 in /usr/local/lib/python3.7/dist-packages (from PyQt5) (5.15.2)\n",
            "Requirement already satisfied: networkx in /usr/local/lib/python3.7/dist-packages (from asymmetree) (2.6.3)\n",
            "Requirement already satisfied: tralda in /usr/local/lib/python3.7/dist-packages (from asymmetree) (1.0.1)\n",
            "Requirement already satisfied: numpy in /usr/local/lib/python3.7/dist-packages (from asymmetree) (1.21.6)\n",
            "Requirement already satisfied: scipy in /usr/local/lib/python3.7/dist-packages (from asymmetree) (1.7.3)\n",
            "Requirement already satisfied: matplotlib in /usr/local/lib/python3.7/dist-packages (from asymmetree) (3.2.2)\n",
            "Requirement already satisfied: pyparsing!=2.0.4,!=2.1.2,!=2.1.6,>=2.0.1 in /usr/local/lib/python3.7/dist-packages (from matplotlib->asymmetree) (3.0.9)\n",
            "Requirement already satisfied: python-dateutil>=2.1 in /usr/local/lib/python3.7/dist-packages (from matplotlib->asymmetree) (2.8.2)\n",
            "Requirement already satisfied: kiwisolver>=1.0.1 in /usr/local/lib/python3.7/dist-packages (from matplotlib->asymmetree) (1.4.4)\n",
            "Requirement already satisfied: cycler>=0.10 in /usr/local/lib/python3.7/dist-packages (from matplotlib->asymmetree) (0.11.0)\n",
            "Requirement already satisfied: typing-extensions in /usr/local/lib/python3.7/dist-packages (from kiwisolver>=1.0.1->matplotlib->asymmetree) (4.1.1)\n",
            "Requirement already satisfied: six>=1.5 in /usr/local/lib/python3.7/dist-packages (from python-dateutil>=2.1->matplotlib->asymmetree) (1.15.0)\n"
          ]
        }
      ]
    },
    {
      "cell_type": "code",
      "source": [
        "#Importing the required libraries\n",
        "import PyQt5\n",
        "from ete3 import Tree, PhyloTree, TreeStyle\n",
        "import random\n",
        "import asymmetree.treeevolve as te\n",
        "from asymmetree.tools.PhyloTreeTools import to_newick\n",
        "import pandas as pd"
      ],
      "metadata": {
        "id": "6A0rcJF5rdQ8"
      },
      "execution_count": null,
      "outputs": []
    },
    {
      "cell_type": "markdown",
      "source": [
        "**Setting the required initial values by the user**\n",
        "\n",
        "*   **k** = the number of clusters, integer (1<=k<100).\n",
        "\n",
        "*   **Lmin** = the minimum possible number of leaves for trees in a cluster, integer (5<=Lmin<500)\n",
        "*   **Lmax** = the maximum possible number of leaves for trees in a cluster, integer (Lmin<Lmax<=500)\n",
        "*   **Ngen** = the number of trees to be generated for each cluster, integer (Ngen<=500)\n",
        "*   **Plevel** = the average level of overlap (common leaves) between trees in a cluster, in decimal notation, from 0.2 to 0.7 with steps of 0.5 (which corresponds to the range from 20% to 70%)\n",
        "\n",
        "Currently, the generator works very slow for the levels of overlap <0.2 and >0.7."
      ],
      "metadata": {
        "id": "e4kGjzzHCyTJ"
      }
    },
    {
      "cell_type": "code",
      "source": [
        "k =   3#@param {type:\"integer\", min:1, max:100}\n",
        "Lmin =   10#@param {type:\"integer\", min:5, max:499}\n",
        "Lmax =   15#@param {type:\"integer\", min:6, max:500}\n",
        "Ngen =  6#@param {type:\"integer\", min:3, max:500}\n",
        "plevel = 0.5 #@param {type:\"slider\", min:0.2, max:0.75, step:0.5}\n",
        "\n"
      ],
      "metadata": {
        "id": "Hig-64vK7JEv"
      },
      "execution_count": null,
      "outputs": []
    },
    {
      "cell_type": "code",
      "source": [
        "#Checking values\n",
        "if k < 1 or k > 100 or Lmin < 5 or Lmin >499 or Lmin > Lmax or Lmin==Lmax or Lmax >500 or Ngen < 3 or Ngen >500:\n",
        "  print('Check if the range of the entered data is correct. Select another value, please')\n",
        "  raise ValueError\n"
      ],
      "metadata": {
        "id": "TRv6TbuOJhq7"
      },
      "execution_count": null,
      "outputs": []
    },
    {
      "cell_type": "code",
      "source": [
        "# a function to generate a species tree with random number of leaves\n",
        "\n",
        "def gptree_speciestree():\n",
        "  N1 = random.randrange(Lmin, Lmax) #we randomly chose the number of leaves for the generated tree in the specified range\n",
        "  S1 = te.species_tree_n(N1)\n",
        "  return S1"
      ],
      "metadata": {
        "id": "7QscbjD5WYz9"
      },
      "execution_count": null,
      "outputs": []
    },
    {
      "cell_type": "code",
      "source": [
        "# a function to generate one gene tree based on a species tree\n",
        "\n",
        "def gptree_genetree(S1):\n",
        "  tree_simulator = te.GeneTreeSimulator(S1)\n",
        "  T1 = tree_simulator.simulate(hgt_rate=0.2, loss_rate=0.2,  replace_prob=0.9) # we set the horizontal gene transfer rate to 0.2\n",
        "  ogt = te.prune_losses(T1)\n",
        "  ogt = to_newick(ogt, reconc=False)\n",
        "  Gn_Tree = Tree(ogt, format=1)\n",
        "  return Gn_Tree\n"
      ],
      "metadata": {
        "id": "n8FX3OlFUOev"
      },
      "execution_count": null,
      "outputs": []
    },
    {
      "cell_type": "code",
      "source": [
        "# a function to generate a set of gene trees based on a species tree\n",
        "\n",
        "def gptree_cluster_gene(sptree):\n",
        "  \n",
        "  cluster_dataset = [] #declare an empty list for gene trees\n",
        "  gene_tree1 = gptree_genetree(sptree)\n",
        "  cluster_dataset.append(gene_tree1) #add the first gene tree\n",
        "  common_leaves_temp = []\n",
        "  overlap_set1 = []\n",
        "  while len(cluster_dataset) < Ngen:\n",
        "    temp_set = cluster_dataset #temp_set is to store trees temporarily\n",
        "    overlap_tempset = overlap_set1\n",
        "    gene_tree_next = gptree_genetree(sptree)\n",
        "    # in the next step we will check the level of overlap and add trees to the intermediate set\n",
        "    overlap_tempset =[]\n",
        "    common_leaves_temp = []\n",
        "    for i in range (0, len(temp_set)):\n",
        "      rf, max_rf, common_leaves, parts_t1, parts_t2, discard_t1, discart_t2 = gene_tree_next.robinson_foulds(temp_set[i], unrooted_trees=True)\n",
        "      # we used the robinson_foulds function to get common leaves for each pairs of trees\n",
        "      overlap_level_temp = len(common_leaves)/(len(gene_tree_next)+len(temp_set[i]) - len(common_leaves)) # overlap level as the Jaccard Similarity Coefficient\n",
        "      #overlap_level_temp = len(common_leaves)/(min(len(gene_tree_next), len(temp_set[i]))) #overlap level as the Overlap Coefficient\n",
        "      #overlap_level_temp = ((len(common_leaves)/len(gene_tree_next))+(len(common_leaves)/len(temp_set[i])))/2 # overlap level considering average\n",
        "      overlap_tempset.append(overlap_level_temp)\n",
        "    average_overlap = pd.Series(overlap_tempset) #calculation of the average level of overlap in the current version of our dataset\n",
        "    if (average_overlap.mean() <= plevel+0.01) and (average_overlap.mean() >= plevel-0.01):\n",
        "      overlap_set1.append(overlap_level_temp)\n",
        "      cluster_dataset.append(gene_tree_next) #we add the generated gene tree to our dataset if this tree satisfies our conditions\n",
        "      #print(\"Now we have \", len(cluster_dataset), \" trees\") #we display the current number of trees in our dataset to see the progress\n",
        "  #print(\"All done. Good job!\")\n",
        "  return cluster_dataset"
      ],
      "metadata": {
        "id": "enwRnGADQE1Q"
      },
      "execution_count": null,
      "outputs": []
    },
    {
      "cell_type": "code",
      "source": [
        "# Generate k clusters of trees and save them to the txt file\n",
        "\n",
        "tree_cluster_dataset = \"trees_%s_%s_%s\" % (k, Ngen, int(plevel*100))\n",
        "with open(r\"%s.txt\" % tree_cluster_dataset, \"w\") as file:\n",
        "  for i in range(1, k+1):\n",
        "    species_tree_k = gptree_speciestree()\n",
        "    cluster_k = gptree_cluster_gene(species_tree_k)\n",
        "  # now we write the generated gene trees to a txt file (trees in Newick format).\n",
        "    file.write(\"Cluster # %s\" % (i)  + '\\n') #if you don't need to separate clusters by the word \"Cluster #\", you can comment this line\n",
        "\n",
        "  #write trees into the file line by line\n",
        "    for tree in cluster_k:\n",
        "      file.write(tree.write() + '\\n')\n",
        "file.close() #close the file for writing"
      ],
      "metadata": {
        "id": "jD6VQArS_74j"
      },
      "execution_count": null,
      "outputs": []
    },
    {
      "cell_type": "markdown",
      "source": [
        "The generated dataset of the specified number of trees (separated by clusters) in Newick format is saved in the folder (e.g. trees_3_6_50.txt file, where the numbers indicate the number of clusters, number of trees in each cluster, and level of overlapping), from which the code was launched, or in the \"Files\" section, if launched in colab\n"
      ],
      "metadata": {
        "id": "GGnqmJ5Kbjuh"
      }
    }
  ]
}
