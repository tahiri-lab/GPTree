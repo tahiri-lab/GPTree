{
  "nbformat": 4,
  "nbformat_minor": 0,
  "metadata": {
    "colab": {
      "name": "Overlap_Phyltree_generator_for_supertree_inference(HGT).ipynb",
      "provenance": [],
      "collapsed_sections": []
    },
    "kernelspec": {
      "name": "python3",
      "display_name": "Python 3"
    },
    "language_info": {
      "name": "python"
    }
  },
  "cells": [
    {
      "cell_type": "markdown",
      "source": [
        "##Phylogenetic tree generator (for supertrees)\n",
        "\n",
        "##Générateur d'arbres phylogénétiques (pour les super-arbres)\n",
        "\n",
        "This generator can be used to generate a specified number of phylogenetic trees in Newick format with a variable number of leaves and with some level of overlap between trees. With this tool, the user can generate a dataset with trees (particularly, gene trees with **horizontal gene transfer** implemented), which is saved in txt, with the possibility of its further use in their scientific experiments (e.g., testing classification algorithms or inference supertrees).\n"
      ],
      "metadata": {
        "id": "Um4r8uJgVpQO"
      }
    },
    {
      "cell_type": "markdown",
      "source": [
        "Contributors: AK and NT"
      ],
      "metadata": {
        "id": "PZ970TAgz6Ud"
      }
    },
    {
      "cell_type": "markdown",
      "source": [
        "The generator is based on the use of the [AsymmeTree library](https://github.com/david-schaller/AsymmeTree).\n",
        "The user has to specify several initial parameters:\n",
        "\n",
        "*   The minimum possible number of leaves for each tree\n",
        "*   The maximum possible number of leaves for each tree\n",
        "*   The average level of overlap (common leaves) between the trees in the set. We will define the level of overlap between two trees as the number of common leaves (between these trees) divided by the summed length of these trees minus the number of common leaves."
      ],
      "metadata": {
        "id": "hesHV4bn-fyn"
      }
    },
    {
      "cell_type": "markdown",
      "source": [
        "To generate species and gene trees with horizintal gene transfer we use this library: https://github.com/david-schaller/AsymmeTree"
      ],
      "metadata": {
        "id": "63sfNQ-pqJeZ"
      }
    },
    {
      "cell_type": "markdown",
      "source": [
        "**Generator**"
      ],
      "metadata": {
        "id": "48tRg9v7lZGz"
      }
    },
    {
      "cell_type": "markdown",
      "source": [
        "We need to install the required libraries\n"
      ],
      "metadata": {
        "id": "kBSnQIQgtQoS"
      }
    },
    {
      "cell_type": "code",
      "source": [
        "pip install ete3 PyQt5 asymmetree"
      ],
      "metadata": {
        "colab": {
          "base_uri": "https://localhost:8080/"
        },
        "id": "PjJguvhxtKjs",
        "outputId": "e2f69a43-14f0-4187-c004-ed1255bf8c43"
      },
      "execution_count": null,
      "outputs": [
        {
          "output_type": "stream",
          "name": "stdout",
          "text": [
            "Looking in indexes: https://pypi.org/simple, https://us-python.pkg.dev/colab-wheels/public/simple/\n",
            "Collecting ete3\n",
            "  Downloading ete3-3.1.2.tar.gz (4.7 MB)\n",
            "\u001b[K     |████████████████████████████████| 4.7 MB 4.9 MB/s \n",
            "\u001b[?25hCollecting PyQt5\n",
            "  Downloading PyQt5-5.15.6-cp36-abi3-manylinux1_x86_64.whl (8.3 MB)\n",
            "\u001b[K     |████████████████████████████████| 8.3 MB 11.2 MB/s \n",
            "\u001b[?25hCollecting asymmetree\n",
            "  Downloading asymmetree-2.2.0-py3-none-any.whl (91 kB)\n",
            "\u001b[K     |████████████████████████████████| 91 kB 4.5 MB/s \n",
            "\u001b[?25hCollecting PyQt5-sip<13,>=12.8\n",
            "  Downloading PyQt5_sip-12.10.1-cp37-cp37m-manylinux1_x86_64.whl (338 kB)\n",
            "\u001b[K     |████████████████████████████████| 338 kB 10.6 MB/s \n",
            "\u001b[?25hCollecting PyQt5-Qt5>=5.15.2\n",
            "  Downloading PyQt5_Qt5-5.15.2-py3-none-manylinux2014_x86_64.whl (59.9 MB)\n",
            "\u001b[K     |████████████████████████████████| 59.9 MB 137 kB/s \n",
            "\u001b[?25hRequirement already satisfied: scipy in /usr/local/lib/python3.7/dist-packages (from asymmetree) (1.4.1)\n",
            "Collecting tralda\n",
            "  Downloading tralda-1.0.1-py3-none-any.whl (72 kB)\n",
            "\u001b[K     |████████████████████████████████| 72 kB 422 kB/s \n",
            "\u001b[?25hRequirement already satisfied: networkx in /usr/local/lib/python3.7/dist-packages (from asymmetree) (2.6.3)\n",
            "Requirement already satisfied: matplotlib in /usr/local/lib/python3.7/dist-packages (from asymmetree) (3.2.2)\n",
            "Requirement already satisfied: numpy in /usr/local/lib/python3.7/dist-packages (from asymmetree) (1.21.6)\n",
            "Requirement already satisfied: python-dateutil>=2.1 in /usr/local/lib/python3.7/dist-packages (from matplotlib->asymmetree) (2.8.2)\n",
            "Requirement already satisfied: kiwisolver>=1.0.1 in /usr/local/lib/python3.7/dist-packages (from matplotlib->asymmetree) (1.4.2)\n",
            "Requirement already satisfied: cycler>=0.10 in /usr/local/lib/python3.7/dist-packages (from matplotlib->asymmetree) (0.11.0)\n",
            "Requirement already satisfied: pyparsing!=2.0.4,!=2.1.2,!=2.1.6,>=2.0.1 in /usr/local/lib/python3.7/dist-packages (from matplotlib->asymmetree) (3.0.9)\n",
            "Requirement already satisfied: typing-extensions in /usr/local/lib/python3.7/dist-packages (from kiwisolver>=1.0.1->matplotlib->asymmetree) (4.2.0)\n",
            "Requirement already satisfied: six>=1.5 in /usr/local/lib/python3.7/dist-packages (from python-dateutil>=2.1->matplotlib->asymmetree) (1.15.0)\n",
            "Building wheels for collected packages: ete3\n",
            "  Building wheel for ete3 (setup.py) ... \u001b[?25l\u001b[?25hdone\n",
            "  Created wheel for ete3: filename=ete3-3.1.2-py3-none-any.whl size=2273013 sha256=9c7ac749cd397186cfc999e47d78c472a8fa4f9072a8760962668f225d63bd7b\n",
            "  Stored in directory: /root/.cache/pip/wheels/17/fd/e2/6ac384d8c2484789304657dde01b96d7ab83f4f1dd96d266df\n",
            "Successfully built ete3\n",
            "Installing collected packages: tralda, PyQt5-sip, PyQt5-Qt5, PyQt5, ete3, asymmetree\n",
            "Successfully installed PyQt5-5.15.6 PyQt5-Qt5-5.15.2 PyQt5-sip-12.10.1 asymmetree-2.2.0 ete3-3.1.2 tralda-1.0.1\n"
          ]
        }
      ]
    },
    {
      "cell_type": "code",
      "source": [
        "#Importing the required libraries\n",
        "import PyQt5\n",
        "from ete3 import Tree, PhyloTree, TreeStyle\n",
        "import random\n",
        "import asymmetree.treeevolve as te\n",
        "from asymmetree.tools.PhyloTreeTools import to_newick\n",
        "import pandas as pd"
      ],
      "metadata": {
        "id": "6A0rcJF5rdQ8"
      },
      "execution_count": null,
      "outputs": []
    },
    {
      "cell_type": "markdown",
      "source": [
        "**Setting the required initial values by the user**\n",
        "\n",
        "*   **Lmin** = the minimum possible number of leaves for each tree, integer (5<=Lmin<500)\n",
        "*   **Lmax** = the maximum possible number of leaves for each tree, integer (Lmin<Lmax<=500)\n",
        "*   **Ngen** = the number of trees to be generated, integer (Ngen<=500)\n",
        "*   **Plevel** = the average level of overlap (common leaves) between the trees in the set, in decimal notation, from 0.2 to 0.7 with steps of 0.5 (which corresponds to the range from 20% to 70%)\n",
        "\n",
        "Currently, the generator works very slow for the levels of overlap <0.2 and >0.7."
      ],
      "metadata": {
        "id": "e4kGjzzHCyTJ"
      }
    },
    {
      "cell_type": "code",
      "source": [
        "Lmin =   15#@param {type:\"integer\", min:5, max:499}\n",
        "Lmax =   25#@param {type:\"integer\", min:6, max:500}\n",
        "Ngen =  30#@param {type:\"integer\", min:3, max:500}\n",
        "plevel = 0.5 #@param {type:\"slider\", min:0.2, max:0.75, step:0.5}\n",
        "\n"
      ],
      "metadata": {
        "id": "Hig-64vK7JEv"
      },
      "execution_count": null,
      "outputs": []
    },
    {
      "cell_type": "code",
      "source": [
        "#Checking values\n",
        "if Lmin < 5 or Lmin >499 or Lmin > Lmax or Lmin==Lmax or Lmax >500 or Ngen < 3 or Ngen >500:\n",
        "  print('Check if the range of the entered data is correct. Select another value, please')\n",
        "  raise ValueError\n"
      ],
      "metadata": {
        "id": "TRv6TbuOJhq7"
      },
      "execution_count": null,
      "outputs": []
    },
    {
      "cell_type": "code",
      "source": [
        "#Generating the first tree\n",
        "# We will base our calculation of the overlap level on the first tree\n",
        "#the first tree will include Lmax leaves\n",
        "\n",
        "Sf1 = te.species_tree_n(Lmax, model='yule') #generating a species tree\n",
        "tree_simulator_f1 = te.GeneTreeSimulator(Sf1)\n",
        "Tf1 = tree_simulator_f1.simulate(hgt_rate=0.2, loss_rate=0.2, replace_prob=1) #generating a gene tree with horizontal gene transfer\n",
        "\n",
        "# take the observable part of a gene tree\n",
        "#it copies the tree, removes all branches that lead to loss events only and suppresses all inner nodes with only one child.\n",
        "# It also removes the planted root.\n",
        "ogt1 = te.prune_losses(Tf1)\n",
        "ogt1 = to_newick(ogt1, reconc=False)\n",
        "First_tree = Tree(ogt1, format=1)\n",
        "First_sp1 = to_newick(Sf1, reconc=False)\n",
        "First_sp = Tree(First_sp1, format=1) #the first species tree in Newick format"
      ],
      "metadata": {
        "id": "l5mvScI3SCDq"
      },
      "execution_count": null,
      "outputs": []
    },
    {
      "cell_type": "markdown",
      "source": [
        "In the next step we will generate new trees (with the specified basic parameters) and check how this tree affects the average level of overlap in the dataset. If they overlap in the specified range (plevel-0.01; plevel+0.01), we will save this new tree to our dataset. We will continue to do this until we have the required number of trees (Ngen)."
      ],
      "metadata": {
        "id": "3IOnIoMNLUe0"
      }
    },
    {
      "cell_type": "code",
      "source": [
        "# if we need to provide the average level of overlap between each pair of trees\n",
        "\n",
        "species_trees = [] #declare an empty list for species trees\n",
        "tree_dataset = [] #declare an empty list for gene trees\n",
        "species_trees.append(First_sp) #add the first species tree\n",
        "tree_dataset.append(First_tree) #add the first gene tree\n",
        "common_leaves_temp = []\n",
        "#overlap_tempset = []\n",
        "overlap_set1 = []\n",
        "while len(tree_dataset) < Ngen:\n",
        "  temp_set = tree_dataset #temp_set is to store trees temporarily\n",
        "  overlap_tempset = overlap_set1\n",
        "  N1 = random.randrange(Lmin, Lmax) #we randomly chose the number of leaves for the generated tree in the specified range\n",
        "  S1 = te.species_tree_n(N1) #generate next species tree\n",
        "  tree_simulator = te.GeneTreeSimulator(S1)\n",
        "  T1 = tree_simulator.simulate(hgt_rate=0.2, loss_rate=0.2,  replace_prob=1) # we set the horizontal gene transfer rate to 0.2\n",
        "  ogt = te.prune_losses(T1)\n",
        "  ogt = to_newick(ogt, reconc=False)\n",
        "  Tr1 = Tree(ogt, format=1) #it's our next gene tree\n",
        "  # in the next step we will check the level of overlap and add trees to our dataset\n",
        "  overlap_tempset =[]\n",
        "  common_leaves_temp = []\n",
        "  for i in range (0, len(temp_set)):\n",
        "    rf, max_rf, common_leaves, parts_t1, parts_t2, discard_t1, discart_t2 = Tr1.robinson_foulds(temp_set[i], unrooted_trees=True)\n",
        "    # we used the robinson_foulds function to get common leaves for each pairs of trees\n",
        "    overlap_level_temp = len(common_leaves)/(len(Tr1)+len(temp_set[i]) - len(common_leaves)+0.001)\n",
        "    overlap_tempset.append(overlap_level_temp)\n",
        "  average_overlap = pd.Series(overlap_tempset) #calculation of the average level of overlap in the current version of our dataset\n",
        "  if (average_overlap.mean() <= plevel+0.01) and (average_overlap.mean() >= plevel-0.01):\n",
        "    overlap_set1.append(overlap_level_temp)\n",
        "    tree_dataset.append(Tr1) #we add the generated gene tree to our dataset if this tree satisfies our conditions\n",
        "    Spt1 = to_newick(S1, reconc=False)\n",
        "    Spt2 = Tree(Spt1, format=1)\n",
        "    species_trees.append(Spt2)\n",
        "    #species_trees.append(Tree(to_newick(S1, color=False), format=1))\n",
        "    print(\"Now we have \", len(tree_dataset), \" trees\") #we display the current number of trees in our dataset to see the progress\n",
        "print(\"All done. Good job!\")"
      ],
      "metadata": {
        "colab": {
          "base_uri": "https://localhost:8080/"
        },
        "id": "01WejjGIjAjK",
        "outputId": "1c2ab7a4-24b5-4a31-db6f-3fff9cd3119b"
      },
      "execution_count": null,
      "outputs": [
        {
          "output_type": "stream",
          "name": "stdout",
          "text": [
            "Now we have  2  trees\n",
            "Now we have  3  trees\n",
            "Now we have  4  trees\n",
            "Now we have  5  trees\n",
            "Now we have  6  trees\n",
            "Now we have  7  trees\n",
            "Now we have  8  trees\n",
            "Now we have  9  trees\n",
            "Now we have  10  trees\n",
            "Now we have  11  trees\n",
            "Now we have  12  trees\n",
            "Now we have  13  trees\n",
            "Now we have  14  trees\n",
            "Now we have  15  trees\n",
            "Now we have  16  trees\n",
            "Now we have  17  trees\n",
            "Now we have  18  trees\n",
            "Now we have  19  trees\n",
            "Now we have  20  trees\n",
            "Now we have  21  trees\n",
            "Now we have  22  trees\n",
            "Now we have  23  trees\n",
            "Now we have  24  trees\n",
            "Now we have  25  trees\n",
            "Now we have  26  trees\n",
            "Now we have  27  trees\n",
            "Now we have  28  trees\n",
            "Now we have  29  trees\n",
            "Now we have  30  trees\n",
            "All done. Good job!\n"
          ]
        }
      ]
    },
    {
      "cell_type": "code",
      "source": [
        "# Let's check the final number of unique trees in our dataset\n",
        "print(\"Desired number of trees = \", Ngen)\n",
        "print(\"Real number of trees = \", len(tree_dataset))\n",
        "print(\"Number of uniques trees in the dataset = \", len(set(tree_dataset)))"
      ],
      "metadata": {
        "colab": {
          "base_uri": "https://localhost:8080/"
        },
        "id": "gJJUBYk4PEGG",
        "outputId": "c17fb6fa-4b7d-4289-e4a4-404ee44ab2aa"
      },
      "execution_count": null,
      "outputs": [
        {
          "output_type": "stream",
          "name": "stdout",
          "text": [
            "Desired number of trees =  30\n",
            "Real number of trees =  30\n",
            "Number of uniques trees in the dataset =  30\n"
          ]
        }
      ]
    },
    {
      "cell_type": "code",
      "source": [
        "# now we write the generated gene trees to a txt file (trees in Newick format).\n",
        "\n",
        "genedataset = \"genetrees_%s\" % (int(plevel*100))\n",
        "with open(r\"%s.txt\" % genedataset, \"w\") as file:\n",
        "#write trees into the file line by line\n",
        "  for tree in tree_dataset:\n",
        "    file.write(tree.write() + '\\n')\n",
        "file.close() #close the file for writing"
      ],
      "metadata": {
        "id": "Yyg1fxKGPbzs"
      },
      "execution_count": null,
      "outputs": []
    },
    {
      "cell_type": "code",
      "source": [
        "# if we need a dataset of generated species trees, we need to launch this cell\n",
        "# we may need it, for example, for HGT-Detection (e.g. http://www.trex.uqam.ca/index.php?action=hgt&project=trex)\n",
        "\n",
        "speciesdataset = \"speciestrees_%s\" % (int(plevel*100))\n",
        "with open(r\"%s.txt\" % speciesdataset, \"w\") as file:\n",
        "#write trees into the file line by line\n",
        "  for tree in species_trees:\n",
        "    file.write(tree.write() + '\\n')\n",
        "file.close() #close the file for writing\n"
      ],
      "metadata": {
        "id": "DfmTu-iOlXJH"
      },
      "execution_count": null,
      "outputs": []
    },
    {
      "cell_type": "markdown",
      "source": [
        "The generated dataset of the specified number of trees (gene trees and/or species trees) in Newick format is saved in the folder (e.g. genetrees_50.txt file, where the number indicates the level of overlap), from which the code was launched, or in the \"Files\" section, if launched in colab\n"
      ],
      "metadata": {
        "id": "GGnqmJ5Kbjuh"
      }
    },
    {
      "cell_type": "markdown",
      "source": [
        "#Checking the generated dataset\n",
        "1. Reading txt file with generated trees line by line\n",
        "2. Assigning tree1, tree2 etc. names to trees from a file\n",
        "3. Visualization of several trees\n",
        "4. Pairwise calculation of the specified number of trees with the number of common leaves (through robinson_foulds)\n",
        "5. Calculation of additional parameters for testing\n"
      ],
      "metadata": {
        "id": "bvS-0j-r-g-H"
      }
    },
    {
      "cell_type": "code",
      "source": [
        "# testing number of leaves in the trees\n",
        "\n",
        "for i in range(0, Ngen):\n",
        "  print(len(species_trees[i]), \" | \", len(tree_dataset[i]))\n"
      ],
      "metadata": {
        "colab": {
          "base_uri": "https://localhost:8080/"
        },
        "id": "QhMZTUC1-SNU",
        "outputId": "fc34ee46-c145-4c48-fcb1-abd3b81cec63"
      },
      "execution_count": null,
      "outputs": [
        {
          "output_type": "stream",
          "name": "stdout",
          "text": [
            "25  |  25\n",
            "20  |  20\n",
            "24  |  24\n",
            "22  |  22\n",
            "23  |  23\n",
            "22  |  22\n",
            "22  |  22\n",
            "23  |  23\n",
            "23  |  23\n",
            "21  |  21\n",
            "24  |  24\n",
            "21  |  21\n",
            "24  |  24\n",
            "24  |  24\n",
            "22  |  22\n",
            "22  |  22\n",
            "22  |  22\n",
            "24  |  24\n",
            "22  |  22\n",
            "22  |  22\n",
            "24  |  24\n",
            "24  |  24\n",
            "21  |  21\n",
            "23  |  23\n",
            "24  |  24\n",
            "22  |  22\n",
            "24  |  24\n",
            "20  |  20\n",
            "22  |  22\n",
            "23  |  23\n"
          ]
        }
      ]
    },
    {
      "cell_type": "code",
      "source": [
        "#Display 2 examples of generated trees. \n",
        "#If necessary, you can select other trees\n",
        "\n",
        "print(\"Tree 1: \", tree_dataset[1])\n",
        "print(\"Tree 3: \", tree_dataset[3])\n"
      ],
      "metadata": {
        "id": "IfTf3Ug4geGL"
      },
      "execution_count": null,
      "outputs": []
    },
    {
      "cell_type": "markdown",
      "source": [
        "### Calculation of the average level of overlap\n",
        "\n",
        " We define the level of overlap between two trees as the number of common leaves (between these trees) divided by the summed length of these trees minus the number of common leaves."
      ],
      "metadata": {
        "id": "bfCpUFkTfGZ0"
      }
    },
    {
      "cell_type": "code",
      "source": [
        "#go through all trees from the file with the collection of generated trees\n",
        "#count the number of common leaves for each pair of trees, using robinson_foulds function\n",
        "common_leaves_set = []\n",
        "overlap_set = []\n",
        "for i in range (0, len(tree_dataset)-1):\n",
        "  for j in range(i+1, len(tree_dataset)):\n",
        "    rf, max_rf, common_leaves, parts_t1, parts_t2, discard_t1, discart_t2 = tree_dataset[i].robinson_foulds(tree_dataset[j], unrooted_trees=True)\n",
        "    common_leaves_set.append(len(common_leaves))\n",
        "    overlap_level = len(common_leaves)/(len(tree_dataset[i])+len(tree_dataset[j]) - len(common_leaves))\n",
        "    overlap_set.append(overlap_level)\n",
        "    #print('For trees ', i+1, j+1, ' ', len(common_leaves))"
      ],
      "metadata": {
        "id": "xPfr-Z0PdqNX"
      },
      "execution_count": null,
      "outputs": []
    },
    {
      "cell_type": "code",
      "source": [
        "# Let's look at the distribution of overlap levels in our dataset\n",
        "import matplotlib.pyplot as plt\n",
        "import pandas as pd\n",
        "ov1 = pd.Series(overlap_set)\n",
        "\n",
        "bins= [0,0.2, 0.3, 0.4, 0.5, 0.6, 0.7, 0.8, 1]\n",
        "plt.hist(ov1.values, bins=bins, edgecolor=\"k\")\n",
        "plt.xticks(bins)\n",
        "plt.xlabel('Level of overlaps')\n",
        "plt.ylabel('Number of pairs of trees')\n",
        "plt.show()"
      ],
      "metadata": {
        "colab": {
          "base_uri": "https://localhost:8080/",
          "height": 279
        },
        "id": "6Z3nKduCASYE",
        "outputId": "9d6a0980-042d-45f6-9ce9-ba0d9be665bf"
      },
      "execution_count": null,
      "outputs": [
        {
          "output_type": "display_data",
          "data": {
            "text/plain": [
              "<Figure size 432x288 with 1 Axes>"
            ],
            "image/png": "[encoded data removed]"
          },
          "metadata": {
            "needs_background": "light"
          }
        }
      ]
    },
    {
      "cell_type": "code",
      "source": [
        "#See the statistics on the number of common leaves\n",
        "s = pd.Series(common_leaves_set)\n",
        "s.describe(percentiles=[.25, .5, .75, .80, .85, .90, .95])"
      ],
      "metadata": {
        "colab": {
          "base_uri": "https://localhost:8080/"
        },
        "id": "mud54tDVrEnU",
        "outputId": "5869d5d5-47a8-449a-deb9-3995667aff3c"
      },
      "execution_count": null,
      "outputs": [
        {
          "output_type": "execute_result",
          "data": {
            "text/plain": [
              "count    1225.000000\n",
              "mean       14.835102\n",
              "std         1.663401\n",
              "min        10.000000\n",
              "25%        14.000000\n",
              "50%        15.000000\n",
              "75%        16.000000\n",
              "80%        16.000000\n",
              "85%        17.000000\n",
              "90%        17.000000\n",
              "95%        17.000000\n",
              "max        20.000000\n",
              "dtype: float64"
            ]
          },
          "metadata": {},
          "execution_count": 30
        }
      ]
    },
    {
      "cell_type": "markdown",
      "source": [
        "Note the values of the number of common leaves: 'mean', 'min', 'max' (with 95% quartile)"
      ],
      "metadata": {
        "id": "d-MqB0p1qzFX"
      }
    },
    {
      "cell_type": "code",
      "source": [
        "#Check the actual average level of overlap\n",
        "print(\"Desired level of overlap = \", plevel)\n",
        "\n",
        "# average level of overlap\n",
        "average_overlap = pd.Series(overlap_set)\n",
        "print(\"Average level of overlap between each pair of trees = \", average_overlap.mean())\n"
      ],
      "metadata": {
        "colab": {
          "base_uri": "https://localhost:8080/"
        },
        "id": "kcNZ2NR4ejo3",
        "outputId": "97d78382-c7e3-43c9-e6b2-7784c06bf347"
      },
      "execution_count": null,
      "outputs": [
        {
          "output_type": "stream",
          "name": "stdout",
          "text": [
            "Desired level of overlap =  0.5\n",
            "Average level of overlap between each pair of trees =  0.4985224530410263\n"
          ]
        }
      ]
    },
    {
      "cell_type": "code",
      "source": [
        "#Visualize the distribution of the number of common leaves\n",
        "s.value_counts().sort_index().plot(kind=\"bar\", xlabel = \"Number of common leaves\", ylabel = \"Number of pairs of trees\")"
      ],
      "metadata": {
        "colab": {
          "base_uri": "https://localhost:8080/",
          "height": 299
        },
        "id": "L2lGupjDiYoB",
        "outputId": "ad4024f5-6741-4a3a-a89b-416526df54f0"
      },
      "execution_count": null,
      "outputs": [
        {
          "output_type": "execute_result",
          "data": {
            "text/plain": [
              "<matplotlib.axes._subplots.AxesSubplot at 0x7f9cafbe9450>"
            ]
          },
          "metadata": {},
          "execution_count": 32
        },
        {
          "output_type": "display_data",
          "data": {
            "text/plain": [
              "<Figure size 432x288 with 1 Axes>"
            ],
            "image/png": "[encoded data removed]"
          },
          "metadata": {
            "needs_background": "light"
          }
        }
      ]
    },
    {
      "cell_type": "markdown",
      "source": [
        "This distribution is close to a normal distribution"
      ],
      "metadata": {
        "id": "_0C4MM6esNT3"
      }
    },
    {
      "cell_type": "code",
      "source": [
        "s.plot(kind = 'box')"
      ],
      "metadata": {
        "colab": {
          "base_uri": "https://localhost:8080/",
          "height": 282
        },
        "id": "jG2cqvRxaifm",
        "outputId": "154ffe30-8814-48f3-b259-23398aea6133"
      },
      "execution_count": null,
      "outputs": [
        {
          "output_type": "execute_result",
          "data": {
            "text/plain": [
              "<matplotlib.axes._subplots.AxesSubplot at 0x7f9cb0355f10>"
            ]
          },
          "metadata": {},
          "execution_count": 33
        },
        {
          "output_type": "display_data",
          "data": {
            "text/plain": [
              "<Figure size 432x288 with 1 Axes>"
            ],
            "image/png": "[encoded data removed]"
          },
          "metadata": {
            "needs_background": "light"
          }
        }
      ]
    },
    {
      "cell_type": "code",
      "source": [
        "#Q-Q Plot\n",
        "\n",
        "import statsmodels.api as sm\n",
        "import pylab\n",
        "\n",
        "sm.qqplot(s, line='s')\n",
        "pylab.show()\n"
      ],
      "metadata": {
        "colab": {
          "base_uri": "https://localhost:8080/",
          "height": 314
        },
        "id": "o9BR3GCFbA1W",
        "outputId": "49de5433-cbf9-4ae7-8a1f-03390d710118"
      },
      "execution_count": null,
      "outputs": [
        {
          "output_type": "stream",
          "name": "stderr",
          "text": [
            "/usr/local/lib/python3.7/dist-packages/statsmodels/tools/_testing.py:19: FutureWarning: pandas.util.testing is deprecated. Use the functions in the public API at pandas.testing instead.\n",
            "  import pandas.util.testing as tm\n"
          ]
        },
        {
          "output_type": "display_data",
          "data": {
            "text/plain": [
              "<Figure size 432x288 with 1 Axes>"
            ],
            "image/png": "[encoded data removed]"
          },
          "metadata": {
            "needs_background": "light"
          }
        }
      ]
    }
  ]
}